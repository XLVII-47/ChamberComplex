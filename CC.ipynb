{
 "cells": [
  {
   "cell_type": "code",
   "execution_count": 1,
   "metadata": {},
   "outputs": [
    {
     "data": {
      "text/plain": [
       "[[-3, 1, 0], [-3, 0, 1], [-3, -1, 0], [-3, 0, -1], [-3, 1, 1]]"
      ]
     },
     "execution_count": 1,
     "metadata": {},
     "output_type": "execute_result"
    }
   ],
   "source": [
    "def ie(A,r):\n",
    "    k=[]\n",
    "    n=A.nrows()\n",
    "    for i in range(0,n):\n",
    "        l= [0]*(n+1)\n",
    "        l[0]=r[i]\n",
    "        l[1:]=A[i]\n",
    "        k.append(l)\n",
    "    return k\n",
    "\n",
    "\n",
    "ie(Matrix([[1,0],[0,1],[-1,0],[0,-1],[1,1]]),[-3,-3,-3,-3,-3])"
   ]
  },
  {
   "cell_type": "code",
   "execution_count": 2,
   "metadata": {},
   "outputs": [],
   "source": [
    "def ie2(A,r):\n",
    "    k=[]\n",
    "    n=A.nrows()\n",
    "    for i in range(0,n):\n",
    "        l= [0]*(n+1)\n",
    "        l[0]=r[i]\n",
    "        l[1:]=-A[i]\n",
    "        k.append(l)\n",
    "    return k\n",
    "\n"
   ]
  },
  {
   "cell_type": "code",
   "execution_count": 3,
   "metadata": {},
   "outputs": [
    {
     "name": "stdout",
     "output_type": "stream",
     "text": [
      "CPU times: user 0 ns, sys: 0 ns, total: 0 ns\n",
      "Wall time: 470 µs\n"
     ]
    },
    {
     "data": {
      "text/plain": [
       "[[-3, -1, 0], [-3, 0, -1], [-3, 1, 0], [-3, 0, 1], [-3, -1, -1]]"
      ]
     },
     "execution_count": 3,
     "metadata": {},
     "output_type": "execute_result"
    }
   ],
   "source": [
    "%%time\n",
    "ie2(Matrix([[1,0],[0,1],[-1,0],[0,-1],[1,1]]),[-3,-3,-3,-3,-3])"
   ]
  },
  {
   "cell_type": "code",
   "execution_count": 4,
   "metadata": {},
   "outputs": [],
   "source": [
    "def CheckR(A,R):\n",
    "    for r in R:\n",
    "        if Polyhedron(ieqs=ie2(A,r)).dim()<=0:\n",
    "            return False\n",
    "    return True"
   ]
  },
  {
   "cell_type": "code",
   "execution_count": 5,
   "metadata": {},
   "outputs": [],
   "source": [
    "def find_intersection(S):\n",
    "    if len(S) == 1:\n",
    "        return S[0]\n",
    "    K=S[0]\n",
    "    for i in range(1,len(S)):\n",
    "        K=K.intersection(S[i])\n",
    "    return K"
   ]
  },
  {
   "cell_type": "code",
   "execution_count": 6,
   "metadata": {},
   "outputs": [
    {
     "data": {
      "text/plain": [
       "[1]"
      ]
     },
     "execution_count": 6,
     "metadata": {},
     "output_type": "execute_result"
    }
   ],
   "source": [
    "list(range(1,2))"
   ]
  },
  {
   "cell_type": "code",
   "execution_count": 7,
   "metadata": {},
   "outputs": [
    {
     "data": {
      "text/plain": [
       "[(0, 1, 0, 0, 0), (0, 0, 1, 0, 0), (0, 0, 0, 1, 0), (0, 0, 0, 0, 1)]"
      ]
     },
     "execution_count": 7,
     "metadata": {},
     "output_type": "execute_result"
    }
   ],
   "source": [
    "def find_Is(subset,m):\n",
    "    Im = Matrix.identity(m)\n",
    "    for s in subset:\n",
    "        Im[s-1,s-1]= 0\n",
    "    return [x[:] for x in Im if x != 0]\n",
    "\n",
    "find_Is([1],5)"
   ]
  },
  {
   "cell_type": "code",
   "execution_count": 8,
   "metadata": {},
   "outputs": [
    {
     "name": "stdout",
     "output_type": "stream",
     "text": [
      "[0, 0]\n"
     ]
    }
   ],
   "source": [
    "def foo(list,i):\n",
    "    print(list[:i]+list[i+1:])\n",
    "    \n",
    "foo([1,0,0],0)"
   ]
  },
  {
   "cell_type": "code",
   "execution_count": 9,
   "metadata": {},
   "outputs": [],
   "source": [
    "def column(matrix, i):\n",
    "    return [row[i] for row in matrix]"
   ]
  },
  {
   "cell_type": "code",
   "execution_count": 10,
   "metadata": {},
   "outputs": [],
   "source": [
    "def ChamberComplex(A):\n",
    "    m=A.nrows()\n",
    "    d=A.ncols()\n",
    "    if A.rank() == d:\n",
    "        S = Subsets([x for x in range(1,m+1)],d,submultiset=True)\n",
    "        S = [sub for sub in S]\n",
    "       \n",
    "        Cones=[]\n",
    "        for s in S:\n",
    "            Is=find_Is(s,m)\n",
    "            CAs=Polyhedron(rays=Is,lines=A.columns())\n",
    "            Cones.append(CAs)\n",
    "        \n",
    "        ChamberComplex=[]\n",
    "        RightKernel = Polyhedron(lines= A.transpose().right_kernel().gens())# [[1,0,1,0,0],[0,1,0,1,0],[-1,-1,0,0,1]]\n",
    "        \n",
    "        Pcones = list(powerset(Cones))\n",
    "       \n",
    "        \n",
    "        for d in Pcones:\n",
    "            if len(d)!=0:\n",
    "                if len(d)!=len(Cones):\n",
    "                    K = find_intersection(d)\n",
    "                    \n",
    "                    KK= K.intersection(RightKernel)\n",
    "                    #print(KK.rays())\n",
    "                    R = list(K.rays())\n",
    "                    \n",
    "                    if CheckR(A,R):\n",
    "                        ChamberComplex.append(KK)\n",
    "    \n",
    "        ll=len(ChamberComplex)\n",
    "        for i in range(0,ll):\n",
    "            if ChamberComplex[i] == None:\n",
    "                continue\n",
    "            for j in range(0,ll):\n",
    "                if i==j or ChamberComplex[j] == None:\n",
    "                    continue\n",
    "                if dim(ChamberComplex[i])==dim(ChamberComplex[j]) and ChamberComplex[i].intersection(ChamberComplex[j]) == ChamberComplex[i]:\n",
    "                    ChamberComplex[j]=None\n",
    "             \n",
    "        return [c for c in ChamberComplex if c != None]\n",
    "        "
   ]
  },
  {
   "cell_type": "code",
   "execution_count": 11,
   "metadata": {},
   "outputs": [],
   "source": [
    "def last(ChamberComplex):\n",
    "    ll=len(ChamberComplex)\n",
    "    for i in range(0,ll):\n",
    "        if ChamberComplex[i] == None:\n",
    "            continue\n",
    "        for j in range(0,ll):\n",
    "            if i==j or ChamberComplex[j] == None:\n",
    "                continue\n",
    "            if ChamberComplex[i].intersection(ChamberComplex[j]) == ChamberComplex[i]:\n",
    "                ChamberComplex[j]=None\n",
    "                    \n",
    "    return [c for c in ChamberComplex if c != None]"
   ]
  },
  {
   "cell_type": "code",
   "execution_count": 12,
   "metadata": {},
   "outputs": [],
   "source": [
    "def isZero(vertex):\n",
    "    for i in vertex[0]:\n",
    "        if i!=0:\n",
    "            return False\n",
    "    return True"
   ]
  },
  {
   "cell_type": "code",
   "execution_count": 13,
   "metadata": {},
   "outputs": [],
   "source": [
    "def helper(L,first,last,Output,inter,Rk,A,ChamberComplex):\n",
    "    \n",
    "    if first==last:\n",
    "        return\n",
    "\n",
    "    if len(Output)+1 == last:\n",
    "        return\n",
    "    \n",
    "    for i in range(first ,last):\n",
    "        if inter !=0 :\n",
    "            \n",
    "            K = inter.intersection(L[i])\n",
    "            KK= K.intersection(Rk)\n",
    "            if dim(KK)==0:\n",
    "                continue\n",
    "            if CheckR(A,list(K.rays())):\n",
    "                try:\n",
    "                    ChamberComplex[dim(KK)].append(KK)\n",
    "                except:\n",
    "                    ChamberComplex[dim(KK)]=[KK]\n",
    "            \n",
    "        else:\n",
    "            K=L[i]\n",
    "            KK = K.intersection(Rk)\n",
    "            \n",
    "            if dim(KK)==0:\n",
    "                continue\n",
    "            if CheckR(A,list(K.rays())):\n",
    "                try:\n",
    "                    ChamberComplex[dim(KK)].append(KK)\n",
    "                except:\n",
    "                    ChamberComplex[dim(KK)]=[KK]\n",
    "        \n",
    "            \n",
    "\n",
    "        helper(L,i+1,last,Output+[L[i]],K,Rk,A,ChamberComplex)"
   ]
  },
  {
   "cell_type": "code",
   "execution_count": 14,
   "metadata": {},
   "outputs": [],
   "source": [
    "def powerset_f(L,Rk,A,ChamberComplex):\n",
    "    helper(L,0,len(L),[],0,Rk,A,ChamberComplex)"
   ]
  },
  {
   "cell_type": "code",
   "execution_count": 15,
   "metadata": {},
   "outputs": [],
   "source": [
    "def ChamberComplex_f(A):\n",
    "    m=A.nrows()\n",
    "    d=A.ncols()\n",
    "    if A.rank() == d:\n",
    "        S = Subsets([x for x in range(1,m+1)],d,submultiset=True)\n",
    "        S = [sub for sub in S]\n",
    "        Cones=[]\n",
    "        for s in S:\n",
    "            Is=find_Is(s,m)\n",
    "            CAs=Polyhedron(rays=Is,lines=A.columns())\n",
    "            Cones.append(CAs)\n",
    "        \n",
    "        #Cones=cc;\n",
    "        ChamberComplex={}\n",
    "        RightKernel = Polyhedron(lines=A.transpose().right_kernel().gens())\n",
    "        \n",
    "       \n",
    "        powerset_f(Cones,RightKernel,A,ChamberComplex)\n",
    "        \n",
    "        ret = []\n",
    "        for key in ChamberComplex:\n",
    "            ret+=last(ChamberComplex[key])\n",
    "            \n",
    "        return ret"
   ]
  },
  {
   "cell_type": "code",
   "execution_count": 16,
   "metadata": {},
   "outputs": [
    {
     "name": "stdout",
     "output_type": "stream",
     "text": [
      "CPU times: user 7.61 s, sys: 47 ms, total: 7.66 s\n",
      "Wall time: 7.9 s\n"
     ]
    }
   ],
   "source": [
    "%%time\n",
    "\n",
    "\n",
    "l=ChamberComplex_f(Matrix([[93,-78,-64,-34],[ 41, -12, -15, -15],[98 ,38, -97, 46],[-58, 75, 18, 54],[-66,70,37,-59],[4,61,58,-28]]))"
   ]
  },
  {
   "cell_type": "code",
   "execution_count": 17,
   "metadata": {},
   "outputs": [
    {
     "name": "stdout",
     "output_type": "stream",
     "text": [
      "CPU times: user 2min 37s, sys: 234 ms, total: 2min 37s\n",
      "Wall time: 2min 37s\n"
     ]
    }
   ],
   "source": [
    "%%time\n",
    "k=ChamberComplex(Matrix([[93,-78,-64,-34],[ 41, -12, -15, -15],[98 ,38, -97, 46],[-58, 75, 18, 54],[-66,70,37,-59],[4,61,58,-28]]))"
   ]
  }
 ],
 "metadata": {
  "kernelspec": {
   "display_name": "SageMath 9.3",
   "language": "sage",
   "name": "sagemath"
  },
  "language_info": {
   "codemirror_mode": {
    "name": "ipython",
    "version": 3
   },
   "file_extension": ".py",
   "mimetype": "text/x-python",
   "name": "python",
   "nbconvert_exporter": "python",
   "pygments_lexer": "ipython3",
   "version": "3.7.10"
  }
 },
 "nbformat": 4,
 "nbformat_minor": 4
}
